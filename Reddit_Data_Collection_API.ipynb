{
 "cells": [
  {
   "cell_type": "code",
   "execution_count": 53,
   "id": "78865a98",
   "metadata": {},
   "outputs": [
    {
     "name": "stdout",
     "output_type": "stream",
     "text": [
      "Requirement already satisfied: praw in c:\\users\\gurde\\anaconda3\\lib\\site-packages (7.7.1)Note: you may need to restart the kernel to use updated packages.\n",
      "\n",
      "Requirement already satisfied: prawcore<3,>=2.1 in c:\\users\\gurde\\anaconda3\\lib\\site-packages (from praw) (2.4.0)\n",
      "Requirement already satisfied: update-checker>=0.18 in c:\\users\\gurde\\anaconda3\\lib\\site-packages (from praw) (0.18.0)\n",
      "Requirement already satisfied: websocket-client>=0.54.0 in c:\\users\\gurde\\anaconda3\\lib\\site-packages (from praw) (0.58.0)\n",
      "Requirement already satisfied: requests<3.0,>=2.6.0 in c:\\users\\gurde\\anaconda3\\lib\\site-packages (from prawcore<3,>=2.1->praw) (2.31.0)\n",
      "Requirement already satisfied: six in c:\\users\\gurde\\anaconda3\\lib\\site-packages (from websocket-client>=0.54.0->praw) (1.16.0)\n",
      "Requirement already satisfied: charset-normalizer<4,>=2 in c:\\users\\gurde\\anaconda3\\lib\\site-packages (from requests<3.0,>=2.6.0->prawcore<3,>=2.1->praw) (2.0.4)\n",
      "Requirement already satisfied: idna<4,>=2.5 in c:\\users\\gurde\\anaconda3\\lib\\site-packages (from requests<3.0,>=2.6.0->prawcore<3,>=2.1->praw) (3.4)\n",
      "Requirement already satisfied: urllib3<3,>=1.21.1 in c:\\users\\gurde\\anaconda3\\lib\\site-packages (from requests<3.0,>=2.6.0->prawcore<3,>=2.1->praw) (1.26.16)\n",
      "Requirement already satisfied: certifi>=2017.4.17 in c:\\users\\gurde\\anaconda3\\lib\\site-packages (from requests<3.0,>=2.6.0->prawcore<3,>=2.1->praw) (2023.7.22)\n"
     ]
    }
   ],
   "source": [
    "pip install praw"
   ]
  },
  {
   "cell_type": "code",
   "execution_count": 60,
   "id": "75d3f93f",
   "metadata": {},
   "outputs": [
    {
     "name": "stdout",
     "output_type": "stream",
     "text": [
      "Fetching comments from subreddit: environment with keyword: carbon credit\n",
      "Fetching comments from subreddit: environment with keyword: carbon market\n",
      "Fetching comments from subreddit: environment with keyword: emission trading\n",
      "Fetching comments from subreddit: environment with keyword: climate policy\n",
      "Fetching comments from subreddit: climate with keyword: carbon credit\n",
      "Fetching comments from subreddit: climate with keyword: carbon market\n",
      "Error fetching from subreddit climate with keyword carbon market: received 429 HTTP response\n",
      "Fetching comments from subreddit: climate with keyword: emission trading\n",
      "Error fetching from subreddit climate with keyword emission trading: received 429 HTTP response\n",
      "Fetching comments from subreddit: climate with keyword: climate policy\n",
      "Error fetching from subreddit climate with keyword climate policy: received 429 HTTP response\n",
      "Fetching comments from subreddit: sustainability with keyword: carbon credit\n",
      "Fetching comments from subreddit: sustainability with keyword: carbon market\n",
      "Fetching comments from subreddit: sustainability with keyword: emission trading\n",
      "Fetching comments from subreddit: sustainability with keyword: climate policy\n",
      "Fetching comments from subreddit: carboncredit with keyword: carbon credit\n",
      "Error fetching from subreddit carboncredit with keyword carbon credit: received 404 HTTP response\n",
      "Fetching comments from subreddit: carboncredit with keyword: carbon market\n",
      "Error fetching from subreddit carboncredit with keyword carbon market: received 404 HTTP response\n",
      "Fetching comments from subreddit: carboncredit with keyword: emission trading\n",
      "Error fetching from subreddit carboncredit with keyword emission trading: received 404 HTTP response\n",
      "Fetching comments from subreddit: carboncredit with keyword: climate policy\n",
      "Error fetching from subreddit carboncredit with keyword climate policy: received 404 HTTP response\n",
      "                                                body          created_utc\n",
      "0  Honestly, I see these stories and I'm pretty m...  2022-07-09 15:22:50\n",
      "1  Fossil fuel industry loves the carbon credit. ...  2022-07-09 17:00:56\n",
      "2                            What’s a carbon credit?  2022-07-09 15:01:02\n",
      "3  Yet another example of how carbon credits are ...  2022-07-09 18:15:57\n",
      "4   BP and exploitation. Name a more consistent duo.  2022-07-09 18:00:37\n",
      "\n",
      "Comments have been saved to 'carbon_credits_comments_new.csv'.\n"
     ]
    }
   ],
   "source": [
    "import praw\n",
    "import pandas as pd\n",
    "from datetime import datetime\n",
    "\n",
    "# Replace these with your credentials\n",
    "client_id = 'n9XqdJY_Jy0LaQH5keGV_g'\n",
    "client_secret = 'aQekyReLy6fiBdPwfAalIMvFH2lp9A'\n",
    "user_agent = 'CarbonCreditAnalysisBot/1.0 by GurdeepSingh00'\n",
    "\n",
    "# Set up the Reddit API client\n",
    "reddit = praw.Reddit(\n",
    "    client_id=client_id,\n",
    "    client_secret=client_secret,\n",
    "    user_agent=user_agent\n",
    ")\n",
    "\n",
    "# Specify the subreddits and keywords\n",
    "subreddits = ['environment', 'climate', 'sustainability', 'carboncredit']\n",
    "keywords = ['carbon credit', 'carbon market', 'emission trading', 'climate policy']\n",
    "\n",
    "# Define the date range\n",
    "start_date = datetime(2020, 1, 1)\n",
    "end_date = datetime(2023, 12, 31)\n",
    "\n",
    "# Initialize an empty list to store comments\n",
    "comments = []\n",
    "\n",
    "# Fetch comments from each subreddit using the specified keywords\n",
    "for subreddit in subreddits:\n",
    "    for keyword in keywords:\n",
    "        print(f\"Fetching comments from subreddit: {subreddit} with keyword: {keyword}\")\n",
    "        try:\n",
    "            for submission in reddit.subreddit(subreddit).search(keyword, limit=1000):\n",
    "                submission.comments.replace_more(limit=None)\n",
    "                for comment in submission.comments.list():\n",
    "                    created_utc = datetime.utcfromtimestamp(comment.created_utc)\n",
    "                    if start_date <= created_utc <= end_date:\n",
    "                        comments.append({\n",
    "                            'body': comment.body,\n",
    "                            'created_utc': created_utc.strftime('%Y-%m-%d %H:%M:%S')\n",
    "                        })\n",
    "        except Exception as e:\n",
    "            print(f\"Error fetching from subreddit {subreddit} with keyword {keyword}: {e}\")\n",
    "\n",
    "# Create a DataFrame from the comments\n",
    "df_comments = pd.DataFrame(comments)\n",
    "print(df_comments.head())\n",
    "\n",
    "# Attempt to save the DataFrame to a CSV file\n",
    "try:\n",
    "    df_comments.to_csv('carbon_credits_comments_new.csv', index=False)\n",
    "    print(\"\\nComments have been saved to 'carbon_credits_comments_new.csv'.\")\n",
    "except PermissionError as e:\n",
    "    print(f\"PermissionError: {e}\")\n",
    "    print(\"Please ensure the file is not open in another program or being used by another process.\")"
   ]
  },
  {
   "cell_type": "code",
   "execution_count": null,
   "id": "3ae6d2aa",
   "metadata": {},
   "outputs": [],
   "source": []
  }
 ],
 "metadata": {
  "kernelspec": {
   "display_name": "Python 3 (ipykernel)",
   "language": "python",
   "name": "python3"
  },
  "language_info": {
   "codemirror_mode": {
    "name": "ipython",
    "version": 3
   },
   "file_extension": ".py",
   "mimetype": "text/x-python",
   "name": "python",
   "nbconvert_exporter": "python",
   "pygments_lexer": "ipython3",
   "version": "3.11.5"
  }
 },
 "nbformat": 4,
 "nbformat_minor": 5
}
